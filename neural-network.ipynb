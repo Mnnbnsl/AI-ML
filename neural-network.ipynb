{
 "cells": [
  {
   "cell_type": "code",
   "execution_count": 1,
   "id": "c7d55992",
   "metadata": {
    "_cell_guid": "b1076dfc-b9ad-4769-8c92-a6c4dae69d19",
    "_uuid": "8f2839f25d086af736a60e9eeb907d3b93b6e0e5",
    "execution": {
     "iopub.execute_input": "2025-05-24T19:51:29.622366Z",
     "iopub.status.busy": "2025-05-24T19:51:29.621601Z",
     "iopub.status.idle": "2025-05-24T19:51:31.238722Z",
     "shell.execute_reply": "2025-05-24T19:51:31.237902Z"
    },
    "papermill": {
     "duration": 1.622328,
     "end_time": "2025-05-24T19:51:31.240103",
     "exception": false,
     "start_time": "2025-05-24T19:51:29.617775",
     "status": "completed"
    },
    "tags": []
   },
   "outputs": [],
   "source": [
    "import numpy as np # linear algebra\n",
    "import pandas as pd # data processing, CSV file I/O (e.g. pd.read_csv)\n",
    "from matplotlib import pyplot as plt"
   ]
  },
  {
   "cell_type": "code",
   "execution_count": 2,
   "id": "82ca7c17",
   "metadata": {
    "execution": {
     "iopub.execute_input": "2025-05-24T19:51:31.248543Z",
     "iopub.status.busy": "2025-05-24T19:51:31.247694Z",
     "iopub.status.idle": "2025-05-24T19:51:34.132404Z",
     "shell.execute_reply": "2025-05-24T19:51:34.131642Z"
    },
    "papermill": {
     "duration": 2.889437,
     "end_time": "2025-05-24T19:51:34.133919",
     "exception": false,
     "start_time": "2025-05-24T19:51:31.244482",
     "status": "completed"
    },
    "tags": []
   },
   "outputs": [],
   "source": [
    "data = pd.read_csv('/kaggle/input/digit-recognizer/train.csv')"
   ]
  },
  {
   "cell_type": "code",
   "execution_count": 3,
   "id": "97bd4f1d",
   "metadata": {
    "execution": {
     "iopub.execute_input": "2025-05-24T19:51:34.139295Z",
     "iopub.status.busy": "2025-05-24T19:51:34.138713Z",
     "iopub.status.idle": "2025-05-24T19:51:34.824499Z",
     "shell.execute_reply": "2025-05-24T19:51:34.823887Z"
    },
    "papermill": {
     "duration": 0.689884,
     "end_time": "2025-05-24T19:51:34.825938",
     "exception": false,
     "start_time": "2025-05-24T19:51:34.136054",
     "status": "completed"
    },
    "tags": []
   },
   "outputs": [],
   "source": [
    "data = np.array(data)\n",
    "\n",
    "# Shuffle\n",
    "np.random.shuffle(data)\n",
    "\n",
    "# Split into dev and train\n",
    "m, n = data.shape\n",
    "data_dev = data[0:1000].T\n",
    "Y_dev = data_dev[0].astype(int)\n",
    "X_dev = data_dev[1:n] / 255.0  # Normalize pixel values\n",
    "\n",
    "data_train = data[1000:m].T\n",
    "Y_train = data_train[0].astype(int)\n",
    "X_train = data_train[1:n] / 255.0  # Normalize"
   ]
  },
  {
   "cell_type": "code",
   "execution_count": 4,
   "id": "44108058",
   "metadata": {
    "execution": {
     "iopub.execute_input": "2025-05-24T19:51:34.832152Z",
     "iopub.status.busy": "2025-05-24T19:51:34.831918Z",
     "iopub.status.idle": "2025-05-24T19:51:34.842495Z",
     "shell.execute_reply": "2025-05-24T19:51:34.841983Z"
    },
    "papermill": {
     "duration": 0.014389,
     "end_time": "2025-05-24T19:51:34.843532",
     "exception": false,
     "start_time": "2025-05-24T19:51:34.829143",
     "status": "completed"
    },
    "tags": []
   },
   "outputs": [],
   "source": [
    "def init_params():\n",
    "    W1 = np.random.randn(10, 784) * 0.01\n",
    "    b1 = np.zeros((10, 1))\n",
    "    W2 = np.random.randn(10, 10) * 0.01\n",
    "    b2 = np.zeros((10, 1))\n",
    "    return W1, b1, W2, b2\n",
    "\n",
    "def relu(Z):\n",
    "    return np.maximum(0, Z)\n",
    "\n",
    "def softmax(Z):\n",
    "    expZ = np.exp(Z - np.max(Z, axis=0, keepdims=True))  # stability\n",
    "    return expZ / np.sum(expZ, axis=0, keepdims=True)\n",
    "\n",
    "def forward_prop(W1, b1, W2, b2, X):\n",
    "    Z1 = W1.dot(X) + b1\n",
    "    A1 = relu(Z1)\n",
    "    Z2 = W2.dot(A1) + b2\n",
    "    A2 = softmax(Z2)\n",
    "    return Z1, A1, Z2, A2\n",
    "\n",
    "def one_hot(Y):\n",
    "    one_hot_Y = np.zeros((Y.size, 10))\n",
    "    one_hot_Y[np.arange(Y.size), Y] = 1\n",
    "    return one_hot_Y.T\n",
    "\n",
    "def dRelu(Z):\n",
    "    return Z > 0\n",
    "\n",
    "def back_prop(Z1, A1, Z2, A2, W2, X, Y):\n",
    "    m = Y.size\n",
    "    one_hot_Y = one_hot(Y)\n",
    "    \n",
    "    dZ2 = A2 - one_hot_Y\n",
    "    dW2 = dZ2.dot(A1.T) / m\n",
    "    db2 = np.sum(dZ2, axis=1, keepdims=True) / m\n",
    "\n",
    "    dZ1 = W2.T.dot(dZ2) * dRelu(Z1)\n",
    "    dW1 = dZ1.dot(X.T) / m\n",
    "    db1 = np.sum(dZ1, axis=1, keepdims=True) / m\n",
    "\n",
    "    return dW1, db1, dW2, db2\n",
    "\n",
    "def update_params(W1, b1, W2, b2, dW1, db1, dW2, db2, alpha):\n",
    "    W1 -= alpha * dW1\n",
    "    b1 -= alpha * db1\n",
    "    W2 -= alpha * dW2\n",
    "    b2 -= alpha * db2\n",
    "    return W1, b1, W2, b2\n",
    "\n",
    "def get_predictions(A2):\n",
    "    return np.argmax(A2, axis=0)\n",
    "\n",
    "def get_accuracy(predictions, Y):\n",
    "    return np.mean(predictions == Y)\n",
    "\n",
    "def gradient_descent(X, Y, iterations, alpha):\n",
    "    W1, b1, W2, b2 = init_params()\n",
    "\n",
    "    for i in range(iterations):\n",
    "        Z1, A1, Z2, A2 = forward_prop(W1, b1, W2, b2, X)\n",
    "        dW1, db1, dW2, db2 = back_prop(Z1, A1, Z2, A2, W2, X, Y)\n",
    "        W1, b1, W2, b2 = update_params(W1, b1, W2, b2, dW1, db1, dW2, db2, alpha)\n",
    "\n",
    "        if i % 10 == 0:\n",
    "            predictions = get_predictions(A2)\n",
    "            acc = get_accuracy(predictions, Y)\n",
    "            print(f\"Iteration {i}: Accuracy = {acc}\")\n",
    "\n",
    "    return W1, b1, W2, b2\n"
   ]
  },
  {
   "cell_type": "code",
   "execution_count": 5,
   "id": "5926f5a7",
   "metadata": {
    "execution": {
     "iopub.execute_input": "2025-05-24T19:51:34.848342Z",
     "iopub.status.busy": "2025-05-24T19:51:34.847999Z",
     "iopub.status.idle": "2025-05-24T19:52:07.798960Z",
     "shell.execute_reply": "2025-05-24T19:52:07.798257Z"
    },
    "papermill": {
     "duration": 32.95474,
     "end_time": "2025-05-24T19:52:07.800414",
     "exception": false,
     "start_time": "2025-05-24T19:51:34.845674",
     "status": "completed"
    },
    "tags": []
   },
   "outputs": [
    {
     "name": "stdout",
     "output_type": "stream",
     "text": [
      "Iteration 0: Accuracy = 0.10073170731707318\n",
      "Iteration 10: Accuracy = 0.11331707317073171\n",
      "Iteration 20: Accuracy = 0.11602439024390244\n",
      "Iteration 30: Accuracy = 0.19002439024390244\n",
      "Iteration 40: Accuracy = 0.3317317073170732\n",
      "Iteration 50: Accuracy = 0.3719268292682927\n",
      "Iteration 60: Accuracy = 0.3441463414634146\n",
      "Iteration 70: Accuracy = 0.3438780487804878\n",
      "Iteration 80: Accuracy = 0.3868536585365854\n",
      "Iteration 90: Accuracy = 0.44565853658536586\n",
      "Iteration 100: Accuracy = 0.5147804878048781\n",
      "Iteration 110: Accuracy = 0.5777560975609756\n",
      "Iteration 120: Accuracy = 0.6264878048780488\n",
      "Iteration 130: Accuracy = 0.6669268292682927\n",
      "Iteration 140: Accuracy = 0.7004390243902439\n",
      "Iteration 150: Accuracy = 0.7276585365853658\n",
      "Iteration 160: Accuracy = 0.7499268292682927\n",
      "Iteration 170: Accuracy = 0.7674634146341464\n",
      "Iteration 180: Accuracy = 0.7841951219512195\n",
      "Iteration 190: Accuracy = 0.7969756097560976\n",
      "Iteration 200: Accuracy = 0.8089024390243903\n",
      "Iteration 210: Accuracy = 0.8185365853658536\n",
      "Iteration 220: Accuracy = 0.827\n",
      "Iteration 230: Accuracy = 0.8337317073170731\n",
      "Iteration 240: Accuracy = 0.8399024390243902\n",
      "Iteration 250: Accuracy = 0.8453170731707317\n",
      "Iteration 260: Accuracy = 0.8505853658536585\n",
      "Iteration 270: Accuracy = 0.8548048780487805\n",
      "Iteration 280: Accuracy = 0.8579756097560975\n",
      "Iteration 290: Accuracy = 0.8612682926829268\n",
      "Iteration 300: Accuracy = 0.8638048780487805\n",
      "Iteration 310: Accuracy = 0.8667560975609756\n",
      "Iteration 320: Accuracy = 0.8689512195121951\n",
      "Iteration 330: Accuracy = 0.8709024390243902\n",
      "Iteration 340: Accuracy = 0.873390243902439\n",
      "Iteration 350: Accuracy = 0.8747317073170732\n",
      "Iteration 360: Accuracy = 0.8769268292682927\n",
      "Iteration 370: Accuracy = 0.8782926829268293\n",
      "Iteration 380: Accuracy = 0.8798780487804878\n",
      "Iteration 390: Accuracy = 0.8810487804878049\n",
      "Iteration 400: Accuracy = 0.8825121951219512\n",
      "Iteration 410: Accuracy = 0.8831951219512195\n",
      "Iteration 420: Accuracy = 0.8839268292682927\n",
      "Iteration 430: Accuracy = 0.8850731707317073\n",
      "Iteration 440: Accuracy = 0.8863414634146342\n",
      "Iteration 450: Accuracy = 0.8871463414634146\n",
      "Iteration 460: Accuracy = 0.8881219512195122\n",
      "Iteration 470: Accuracy = 0.8887317073170732\n",
      "Iteration 480: Accuracy = 0.8892439024390244\n",
      "Iteration 490: Accuracy = 0.8901707317073171\n"
     ]
    }
   ],
   "source": [
    "W1,b1,W2,b2 = gradient_descent(X_train,Y_train,500,0.1)"
   ]
  },
  {
   "cell_type": "code",
   "execution_count": 6,
   "id": "c6b518c4",
   "metadata": {
    "execution": {
     "iopub.execute_input": "2025-05-24T19:52:07.809051Z",
     "iopub.status.busy": "2025-05-24T19:52:07.808801Z",
     "iopub.status.idle": "2025-05-24T19:52:07.814380Z",
     "shell.execute_reply": "2025-05-24T19:52:07.813834Z"
    },
    "papermill": {
     "duration": 0.010882,
     "end_time": "2025-05-24T19:52:07.815321",
     "exception": false,
     "start_time": "2025-05-24T19:52:07.804439",
     "status": "completed"
    },
    "tags": []
   },
   "outputs": [],
   "source": [
    "def make_predictions(X, W1, b1, W2, b2):\n",
    "    _, _, _, A2 = forward_prop(W1, b1, W2, b2, X)\n",
    "    predictions = get_predictions(A2)\n",
    "    return predictions\n",
    "\n",
    "def test_prediction(X, Y, index, W1, b1, W2, b2):\n",
    "    current_image = X[:, index].reshape(-1, 1)  # shape (784, 1)\n",
    "    prediction = make_predictions(current_image, W1, b1, W2, b2)\n",
    "    label = Y[index]\n",
    "    \n",
    "    print(\"Prediction:\", prediction[0])\n",
    "    print(\"Label:\", label)\n",
    "\n",
    "    # Reshape and rescale for display\n",
    "    image_display = current_image.reshape((28, 28)) * 255\n",
    "    plt.gray()\n",
    "    plt.imshow(image_display, interpolation='nearest')\n",
    "    plt.title(f\"Predicted: {prediction[0]} | Actual: {label}\")\n",
    "    plt.axis(\"off\")\n",
    "    plt.show()\n"
   ]
  },
  {
   "cell_type": "code",
   "execution_count": 7,
   "id": "5712ad9f",
   "metadata": {
    "execution": {
     "iopub.execute_input": "2025-05-24T19:52:07.823391Z",
     "iopub.status.busy": "2025-05-24T19:52:07.823183Z",
     "iopub.status.idle": "2025-05-24T19:52:07.986275Z",
     "shell.execute_reply": "2025-05-24T19:52:07.985588Z"
    },
    "papermill": {
     "duration": 0.16856,
     "end_time": "2025-05-24T19:52:07.987392",
     "exception": false,
     "start_time": "2025-05-24T19:52:07.818832",
     "status": "completed"
    },
    "tags": []
   },
   "outputs": [
    {
     "name": "stdout",
     "output_type": "stream",
     "text": [
      "Prediction: 2\n",
      "Label: 2\n"
     ]
    },
    {
     "data": {
      "image/png": "[encoded data removed]",
      "text/plain": [
       "<Figure size 640x480 with 1 Axes>"
      ]
     },
     "metadata": {},
     "output_type": "display_data"
    }
   ],
   "source": [
    "test_prediction(X_train, Y_train, index=1234, W1=W1, b1=b1, W2=W2, b2=b2)\n"
   ]
  },
  {
   "cell_type": "code",
   "execution_count": 8,
   "id": "16781fd8",
   "metadata": {
    "execution": {
     "iopub.execute_input": "2025-05-24T19:52:07.996067Z",
     "iopub.status.busy": "2025-05-24T19:52:07.995831Z",
     "iopub.status.idle": "2025-05-24T19:52:08.001750Z",
     "shell.execute_reply": "2025-05-24T19:52:08.001022Z"
    },
    "papermill": {
     "duration": 0.011353,
     "end_time": "2025-05-24T19:52:08.002836",
     "exception": false,
     "start_time": "2025-05-24T19:52:07.991483",
     "status": "completed"
    },
    "tags": []
   },
   "outputs": [
    {
     "name": "stdout",
     "output_type": "stream",
     "text": [
      "Final Dev Set Accuracy: 88.70%\n"
     ]
    }
   ],
   "source": [
    "# Forward pass\n",
    "_, _, _, A2_dev = forward_prop(W1, b1, W2, b2, X_dev)\n",
    "\n",
    "# Predictions\n",
    "predictions = get_predictions(A2_dev)\n",
    "\n",
    "# Accuracy\n",
    "accuracy = get_accuracy(predictions, Y_dev)\n",
    "print(f\"Final Dev Set Accuracy: {accuracy * 100:.2f}%\")"
   ]
  },
  {
   "cell_type": "code",
   "execution_count": 9,
   "id": "bb829377",
   "metadata": {
    "execution": {
     "iopub.execute_input": "2025-05-24T19:52:08.011443Z",
     "iopub.status.busy": "2025-05-24T19:52:08.011249Z",
     "iopub.status.idle": "2025-05-24T19:52:08.015397Z",
     "shell.execute_reply": "2025-05-24T19:52:08.014952Z"
    },
    "papermill": {
     "duration": 0.009503,
     "end_time": "2025-05-24T19:52:08.016398",
     "exception": false,
     "start_time": "2025-05-24T19:52:08.006895",
     "status": "completed"
    },
    "tags": []
   },
   "outputs": [],
   "source": [
    "# Save each parameter as a separate .npy file\n",
    "np.save('W1.npy', W1)\n",
    "np.save('b1.npy', b1)\n",
    "np.save('W2.npy', W2)\n",
    "np.save('b2.npy', b2)\n"
   ]
  }
 ],
 "metadata": {
  "kaggle": {
   "accelerator": "gpu",
   "dataSources": [
    {
     "databundleVersionId": 861823,
     "sourceId": 3004,
     "sourceType": "competition"
    }
   ],
   "dockerImageVersionId": 31041,
   "isGpuEnabled": true,
   "isInternetEnabled": true,
   "language": "python",
   "sourceType": "notebook"
  },
  "kernelspec": {
   "display_name": "Python 3",
   "language": "python",
   "name": "python3"
  },
  "language_info": {
   "codemirror_mode": {
    "name": "ipython",
    "version": 3
   },
   "file_extension": ".py",
   "mimetype": "text/x-python",
   "name": "python",
   "nbconvert_exporter": "python",
   "pygments_lexer": "ipython3",
   "version": "3.11.11"
  },
  "papermill": {
   "default_parameters": {},
   "duration": 43.270373,
   "end_time": "2025-05-24T19:52:08.336966",
   "environment_variables": {},
   "exception": null,
   "input_path": "__notebook__.ipynb",
   "output_path": "__notebook__.ipynb",
   "parameters": {},
   "start_time": "2025-05-24T19:51:25.066593",
   "version": "2.6.0"
  }
 },
 "nbformat": 4,
 "nbformat_minor": 5
}
